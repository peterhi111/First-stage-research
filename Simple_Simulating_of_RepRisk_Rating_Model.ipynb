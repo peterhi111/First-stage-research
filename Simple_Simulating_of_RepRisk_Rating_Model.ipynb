{
  "nbformat": 4,
  "nbformat_minor": 0,
  "metadata": {
    "colab": {
      "name": "Simple Simulating of RepRisk Rating Model.ipynb",
      "provenance": [],
      "collapsed_sections": []
    },
    "kernelspec": {
      "name": "python3",
      "display_name": "Python 3"
    }
  },
  "cells": [
    {
      "cell_type": "code",
      "metadata": {
        "id": "QdxywIkMptHR"
      },
      "source": [
        "import pandas as pd \n",
        "import numpy as np"
      ],
      "execution_count": 19,
      "outputs": []
    },
    {
      "cell_type": "code",
      "metadata": {
        "id": "cBiLGnTvLIqi"
      },
      "source": [
        "###show all columns\n",
        "pd.set_option('display.max_columns', None)\n",
        "pd.set_option('display.max_rows', None)"
      ],
      "execution_count": 20,
      "outputs": []
    },
    {
      "cell_type": "code",
      "metadata": {
        "colab": {
          "base_uri": "https://localhost:8080/",
          "height": 289
        },
        "id": "hrMjxp70LOcJ",
        "outputId": "e2a5b801-7aa9-4d69-a14b-cea9185f807c"
      },
      "source": [
        "df=pd.read_excel('https://raw.githubusercontent.com/peterhi111/Econ-211/main/latest%20RRI.xlsx')\n",
        "df.head()"
      ],
      "execution_count": 21,
      "outputs": [
        {
          "output_type": "execute_result",
          "data": {
            "text/html": [
              "<div>\n",
              "<style scoped>\n",
              "    .dataframe tbody tr th:only-of-type {\n",
              "        vertical-align: middle;\n",
              "    }\n",
              "\n",
              "    .dataframe tbody tr th {\n",
              "        vertical-align: top;\n",
              "    }\n",
              "\n",
              "    .dataframe thead th {\n",
              "        text-align: right;\n",
              "    }\n",
              "</style>\n",
              "<table border=\"1\" class=\"dataframe\">\n",
              "  <thead>\n",
              "    <tr style=\"text-align: right;\">\n",
              "      <th></th>\n",
              "      <th>Internal RepRisk ID</th>\n",
              "      <th>Date of the month-end value. Time Slot Name.</th>\n",
              "      <th>Current RepRisk Index (RRI)</th>\n",
              "      <th>RRI Trend</th>\n",
              "      <th>Peak RepRisk Index (RRI)</th>\n",
              "      <th>Peak RepRisk Index (RRI) Date</th>\n",
              "      <th>RepRisk Rating</th>\n",
              "      <th>Country Sector Average</th>\n",
              "      <th>Environmental Percentage</th>\n",
              "      <th>Social Percentage</th>\n",
              "      <th>Governance Percentage</th>\n",
              "      <th>Legal Name of the Entity</th>\n",
              "      <th>ISIN</th>\n",
              "    </tr>\n",
              "  </thead>\n",
              "  <tbody>\n",
              "    <tr>\n",
              "      <th>0</th>\n",
              "      <td>10</td>\n",
              "      <td>2020-08-31</td>\n",
              "      <td>21</td>\n",
              "      <td>-1</td>\n",
              "      <td>31</td>\n",
              "      <td>2020-04-04</td>\n",
              "      <td>BBB</td>\n",
              "      <td>38</td>\n",
              "      <td>0.0</td>\n",
              "      <td>1.0</td>\n",
              "      <td>0.0</td>\n",
              "      <td>Acer Inc</td>\n",
              "      <td>US0044341065</td>\n",
              "    </tr>\n",
              "    <tr>\n",
              "      <th>1</th>\n",
              "      <td>10</td>\n",
              "      <td>2020-08-31</td>\n",
              "      <td>21</td>\n",
              "      <td>-1</td>\n",
              "      <td>31</td>\n",
              "      <td>2020-04-04</td>\n",
              "      <td>BBB</td>\n",
              "      <td>38</td>\n",
              "      <td>0.0</td>\n",
              "      <td>1.0</td>\n",
              "      <td>0.0</td>\n",
              "      <td>Acer Inc</td>\n",
              "      <td>TW0002353000</td>\n",
              "    </tr>\n",
              "    <tr>\n",
              "      <th>2</th>\n",
              "      <td>10</td>\n",
              "      <td>2020-08-31</td>\n",
              "      <td>21</td>\n",
              "      <td>-1</td>\n",
              "      <td>31</td>\n",
              "      <td>2020-04-04</td>\n",
              "      <td>BBB</td>\n",
              "      <td>38</td>\n",
              "      <td>0.0</td>\n",
              "      <td>1.0</td>\n",
              "      <td>0.0</td>\n",
              "      <td>Acer Inc</td>\n",
              "      <td>US0044342055</td>\n",
              "    </tr>\n",
              "    <tr>\n",
              "      <th>3</th>\n",
              "      <td>100</td>\n",
              "      <td>2020-08-31</td>\n",
              "      <td>23</td>\n",
              "      <td>3</td>\n",
              "      <td>30</td>\n",
              "      <td>2020-02-28</td>\n",
              "      <td>A</td>\n",
              "      <td>17</td>\n",
              "      <td>0.5</td>\n",
              "      <td>0.5</td>\n",
              "      <td>0.0</td>\n",
              "      <td>Rio Tinto PLC</td>\n",
              "      <td>GB0007188757</td>\n",
              "    </tr>\n",
              "    <tr>\n",
              "      <th>4</th>\n",
              "      <td>100</td>\n",
              "      <td>2020-08-31</td>\n",
              "      <td>23</td>\n",
              "      <td>3</td>\n",
              "      <td>30</td>\n",
              "      <td>2020-02-28</td>\n",
              "      <td>A</td>\n",
              "      <td>17</td>\n",
              "      <td>0.5</td>\n",
              "      <td>0.5</td>\n",
              "      <td>0.0</td>\n",
              "      <td>Rio Tinto PLC</td>\n",
              "      <td>BRRIOTBDR007</td>\n",
              "    </tr>\n",
              "  </tbody>\n",
              "</table>\n",
              "</div>"
            ],
            "text/plain": [
              "   Internal RepRisk ID Date of the month-end value. Time Slot Name.  \\\n",
              "0                   10                                   2020-08-31   \n",
              "1                   10                                   2020-08-31   \n",
              "2                   10                                   2020-08-31   \n",
              "3                  100                                   2020-08-31   \n",
              "4                  100                                   2020-08-31   \n",
              "\n",
              "   Current RepRisk Index (RRI)  RRI Trend  Peak RepRisk Index (RRI)  \\\n",
              "0                           21         -1                        31   \n",
              "1                           21         -1                        31   \n",
              "2                           21         -1                        31   \n",
              "3                           23          3                        30   \n",
              "4                           23          3                        30   \n",
              "\n",
              "  Peak RepRisk Index (RRI) Date RepRisk Rating  Country Sector Average  \\\n",
              "0                    2020-04-04            BBB                      38   \n",
              "1                    2020-04-04            BBB                      38   \n",
              "2                    2020-04-04            BBB                      38   \n",
              "3                    2020-02-28              A                      17   \n",
              "4                    2020-02-28              A                      17   \n",
              "\n",
              "   Environmental Percentage  Social Percentage  Governance Percentage  \\\n",
              "0                       0.0                1.0                    0.0   \n",
              "1                       0.0                1.0                    0.0   \n",
              "2                       0.0                1.0                    0.0   \n",
              "3                       0.5                0.5                    0.0   \n",
              "4                       0.5                0.5                    0.0   \n",
              "\n",
              "  Legal Name of the Entity          ISIN  \n",
              "0                 Acer Inc  US0044341065  \n",
              "1                 Acer Inc  TW0002353000  \n",
              "2                 Acer Inc  US0044342055  \n",
              "3            Rio Tinto PLC  GB0007188757  \n",
              "4            Rio Tinto PLC  BRRIOTBDR007  "
            ]
          },
          "metadata": {
            "tags": []
          },
          "execution_count": 21
        }
      ]
    },
    {
      "cell_type": "code",
      "metadata": {
        "colab": {
          "base_uri": "https://localhost:8080/",
          "height": 314
        },
        "id": "88mL0Kl3elod",
        "outputId": "427d587c-839d-4e85-ec5f-a3a0cb982cb4"
      },
      "source": [
        "df.describe()"
      ],
      "execution_count": 22,
      "outputs": [
        {
          "output_type": "execute_result",
          "data": {
            "text/html": [
              "<div>\n",
              "<style scoped>\n",
              "    .dataframe tbody tr th:only-of-type {\n",
              "        vertical-align: middle;\n",
              "    }\n",
              "\n",
              "    .dataframe tbody tr th {\n",
              "        vertical-align: top;\n",
              "    }\n",
              "\n",
              "    .dataframe thead th {\n",
              "        text-align: right;\n",
              "    }\n",
              "</style>\n",
              "<table border=\"1\" class=\"dataframe\">\n",
              "  <thead>\n",
              "    <tr style=\"text-align: right;\">\n",
              "      <th></th>\n",
              "      <th>Internal RepRisk ID</th>\n",
              "      <th>Current RepRisk Index (RRI)</th>\n",
              "      <th>RRI Trend</th>\n",
              "      <th>Peak RepRisk Index (RRI)</th>\n",
              "      <th>Country Sector Average</th>\n",
              "      <th>Environmental Percentage</th>\n",
              "      <th>Social Percentage</th>\n",
              "      <th>Governance Percentage</th>\n",
              "    </tr>\n",
              "  </thead>\n",
              "  <tbody>\n",
              "    <tr>\n",
              "      <th>count</th>\n",
              "      <td>2.673930e+05</td>\n",
              "      <td>267393.000000</td>\n",
              "      <td>267393.000000</td>\n",
              "      <td>267393.000000</td>\n",
              "      <td>267393.000000</td>\n",
              "      <td>267393.000000</td>\n",
              "      <td>267393.000000</td>\n",
              "      <td>267393.000000</td>\n",
              "    </tr>\n",
              "    <tr>\n",
              "      <th>mean</th>\n",
              "      <td>6.079697e+04</td>\n",
              "      <td>14.383163</td>\n",
              "      <td>-0.272827</td>\n",
              "      <td>26.845321</td>\n",
              "      <td>32.481262</td>\n",
              "      <td>0.111475</td>\n",
              "      <td>0.214815</td>\n",
              "      <td>0.329046</td>\n",
              "    </tr>\n",
              "    <tr>\n",
              "      <th>std</th>\n",
              "      <td>1.008151e+05</td>\n",
              "      <td>14.282821</td>\n",
              "      <td>3.942958</td>\n",
              "      <td>17.500596</td>\n",
              "      <td>14.013652</td>\n",
              "      <td>0.194795</td>\n",
              "      <td>0.284534</td>\n",
              "      <td>0.379871</td>\n",
              "    </tr>\n",
              "    <tr>\n",
              "      <th>min</th>\n",
              "      <td>2.000000e+00</td>\n",
              "      <td>0.000000</td>\n",
              "      <td>-13.000000</td>\n",
              "      <td>0.000000</td>\n",
              "      <td>0.000000</td>\n",
              "      <td>0.000000</td>\n",
              "      <td>0.000000</td>\n",
              "      <td>0.000000</td>\n",
              "    </tr>\n",
              "    <tr>\n",
              "      <th>25%</th>\n",
              "      <td>2.537000e+03</td>\n",
              "      <td>0.000000</td>\n",
              "      <td>-1.000000</td>\n",
              "      <td>17.000000</td>\n",
              "      <td>23.000000</td>\n",
              "      <td>0.000000</td>\n",
              "      <td>0.000000</td>\n",
              "      <td>0.000000</td>\n",
              "    </tr>\n",
              "    <tr>\n",
              "      <th>50%</th>\n",
              "      <td>1.300500e+04</td>\n",
              "      <td>14.000000</td>\n",
              "      <td>-1.000000</td>\n",
              "      <td>27.000000</td>\n",
              "      <td>26.000000</td>\n",
              "      <td>0.000000</td>\n",
              "      <td>0.000000</td>\n",
              "      <td>0.170000</td>\n",
              "    </tr>\n",
              "    <tr>\n",
              "      <th>75%</th>\n",
              "      <td>8.666500e+04</td>\n",
              "      <td>24.000000</td>\n",
              "      <td>0.000000</td>\n",
              "      <td>37.000000</td>\n",
              "      <td>40.000000</td>\n",
              "      <td>0.180000</td>\n",
              "      <td>0.360000</td>\n",
              "      <td>0.640000</td>\n",
              "    </tr>\n",
              "    <tr>\n",
              "      <th>max</th>\n",
              "      <td>1.774029e+06</td>\n",
              "      <td>78.000000</td>\n",
              "      <td>46.000000</td>\n",
              "      <td>81.000000</td>\n",
              "      <td>100.000000</td>\n",
              "      <td>1.000000</td>\n",
              "      <td>1.000000</td>\n",
              "      <td>1.000000</td>\n",
              "    </tr>\n",
              "  </tbody>\n",
              "</table>\n",
              "</div>"
            ],
            "text/plain": [
              "       Internal RepRisk ID  Current RepRisk Index (RRI)      RRI Trend  \\\n",
              "count         2.673930e+05                267393.000000  267393.000000   \n",
              "mean          6.079697e+04                    14.383163      -0.272827   \n",
              "std           1.008151e+05                    14.282821       3.942958   \n",
              "min           2.000000e+00                     0.000000     -13.000000   \n",
              "25%           2.537000e+03                     0.000000      -1.000000   \n",
              "50%           1.300500e+04                    14.000000      -1.000000   \n",
              "75%           8.666500e+04                    24.000000       0.000000   \n",
              "max           1.774029e+06                    78.000000      46.000000   \n",
              "\n",
              "       Peak RepRisk Index (RRI)  Country Sector Average  \\\n",
              "count             267393.000000           267393.000000   \n",
              "mean                  26.845321               32.481262   \n",
              "std                   17.500596               14.013652   \n",
              "min                    0.000000                0.000000   \n",
              "25%                   17.000000               23.000000   \n",
              "50%                   27.000000               26.000000   \n",
              "75%                   37.000000               40.000000   \n",
              "max                   81.000000              100.000000   \n",
              "\n",
              "       Environmental Percentage  Social Percentage  Governance Percentage  \n",
              "count             267393.000000      267393.000000          267393.000000  \n",
              "mean                   0.111475           0.214815               0.329046  \n",
              "std                    0.194795           0.284534               0.379871  \n",
              "min                    0.000000           0.000000               0.000000  \n",
              "25%                    0.000000           0.000000               0.000000  \n",
              "50%                    0.000000           0.000000               0.170000  \n",
              "75%                    0.180000           0.360000               0.640000  \n",
              "max                    1.000000           1.000000               1.000000  "
            ]
          },
          "metadata": {
            "tags": []
          },
          "execution_count": 22
        }
      ]
    },
    {
      "cell_type": "markdown",
      "metadata": {
        "id": "3RB7quj1Zi3I"
      },
      "source": [
        "As for the simplest case, we only look at the first company whose Internal RepRisk ID = 10"
      ]
    },
    {
      "cell_type": "code",
      "metadata": {
        "colab": {
          "base_uri": "https://localhost:8080/"
        },
        "id": "fPazV5M_Zx6z",
        "outputId": "567d293c-b1d4-4ded-8316-aa7902ee1e1f"
      },
      "source": [
        "simu_data=df.loc[0].values\n",
        "print(simu_data)"
      ],
      "execution_count": 40,
      "outputs": [
        {
          "output_type": "stream",
          "text": [
            "[10 Timestamp('2020-08-31 00:00:00') 21 -1 31\n",
            " Timestamp('2020-04-04 00:00:00') 'BBB' 38 0.0 1.0 0.0 'Acer Inc'\n",
            " 'US0044341065']\n"
          ],
          "name": "stdout"
        }
      ]
    },
    {
      "cell_type": "markdown",
      "metadata": {
        "id": "_ElAQesqhxlx"
      },
      "source": [
        "Based on the methodology of RepRisk Rating (RRR), it is calculated by two factors - Peak RRI & Country-Sector Average. According to the simple data analysis we have done, we know that they have already provided the data of two factors. However, in the methodology RepRisk provided, we cannot how to generate the final rating with these two factors. Thus, I would first try to set 50% to each of the two factors seperately to see whether it works."
      ]
    },
    {
      "cell_type": "code",
      "metadata": {
        "colab": {
          "base_uri": "https://localhost:8080/"
        },
        "id": "ACSjKo4GafCS",
        "outputId": "a1b4bfec-afbb-42e2-bc30-ce2b4d2166e8"
      },
      "source": [
        "ave = (simu_data[4] + simu_data[7]) / 2\n",
        "print(ave)"
      ],
      "execution_count": 37,
      "outputs": [
        {
          "output_type": "stream",
          "text": [
            "34.5\n"
          ],
          "name": "stdout"
        }
      ]
    },
    {
      "cell_type": "markdown",
      "metadata": {
        "id": "86xAM2Cqi_LH"
      },
      "source": [
        "It's also weird that although RepRisk claimed that the RRR is a letter rating, they set the the data type of RRR as int. Thus, I made an assumption and tried to test the correctness of my assumption.\n",
        "\n",
        "Since RepRisk regard RRR's data type as int, I assume each RRR level is corresponding to a certain region of scales (the whole region is from 0 - 100). "
      ]
    },
    {
      "cell_type": "code",
      "metadata": {
        "colab": {
          "base_uri": "https://localhost:8080/"
        },
        "id": "uG7km1Gklf1F",
        "outputId": "af8a62fb-a655-4d44-f4fa-daf9000f811c"
      },
      "source": [
        "simu_data2 = df.loc[3].values\n",
        "simu_data2"
      ],
      "execution_count": 38,
      "outputs": [
        {
          "output_type": "execute_result",
          "data": {
            "text/plain": [
              "array([100, Timestamp('2020-08-31 00:00:00'), 23, 3, 30,\n",
              "       Timestamp('2020-02-28 00:00:00'), 'A', 17, 0.5, 0.5, 0.0,\n",
              "       'Rio Tinto PLC', 'GB0007188757'], dtype=object)"
            ]
          },
          "metadata": {
            "tags": []
          },
          "execution_count": 38
        }
      ]
    },
    {
      "cell_type": "code",
      "metadata": {
        "colab": {
          "base_uri": "https://localhost:8080/"
        },
        "id": "Uc6qpSxLlpah",
        "outputId": "50180b8c-dc89-44c1-e5e5-b4ac7823fa55"
      },
      "source": [
        "ave2 = (simu_data2[4] + simu_data2[7]) / 2\n",
        "print(ave2)"
      ],
      "execution_count": 52,
      "outputs": [
        {
          "output_type": "stream",
          "text": [
            "23.5\n"
          ],
          "name": "stdout"
        }
      ]
    },
    {
      "cell_type": "code",
      "metadata": {
        "colab": {
          "base_uri": "https://localhost:8080/"
        },
        "id": "41aB1f14l1Zh",
        "outputId": "842dbddf-872d-4214-8bdf-68913363e7a6"
      },
      "source": [
        "print(ave, simu_data[6])\n",
        "print(ave2, simu_data2[6])"
      ],
      "execution_count": 53,
      "outputs": [
        {
          "output_type": "stream",
          "text": [
            "34.5 BBB\n",
            "23.5 A\n"
          ],
          "name": "stdout"
        }
      ]
    },
    {
      "cell_type": "markdown",
      "metadata": {
        "id": "LIuzhA8omKfj"
      },
      "source": [
        "To make the assumption more reasonable, I also looked at another company's information and found that the one with lower average score of country-sector average and Peak RRI has a better rating. "
      ]
    },
    {
      "cell_type": "code",
      "metadata": {
        "id": "8LHY1eXUhweK"
      },
      "source": [
        "# Therefore, the following is how I let the letter rating correspond to 0 - 100 scales.\n",
        "# char pred_rate\n",
        "def rating(ave):\n",
        "  pred_rate = ''\n",
        "  if 0<=ave<=10:\n",
        "    pred_rate = 'AAA'\n",
        "  elif 10<ave<=20:\n",
        "    pred_rate = 'AA'\n",
        "  elif 20<ave<=30:\n",
        "    pred_rate = 'A'\n",
        "  elif 30<ave<=40:\n",
        "    pred_rate = 'BBB'\n",
        "  elif 40<ave<=50:\n",
        "    pred_rate = 'BB'\n",
        "  elif 50<ave<=60:\n",
        "    pred_rate = 'B'\n",
        "  elif 60<ave<=70:\n",
        "    pred_rate = 'CCC'\n",
        "  elif 70<ave<=80:\n",
        "    pred_rate = 'CC'\n",
        "  elif 80<ave<=90:\n",
        "    pred_rate = 'C'\n",
        "  else:\n",
        "    pred_rate = 'D'\n",
        "  print(pred_rate)"
      ],
      "execution_count": 69,
      "outputs": []
    },
    {
      "cell_type": "code",
      "metadata": {
        "colab": {
          "base_uri": "https://localhost:8080/"
        },
        "id": "RJrTWeUm5I9x",
        "outputId": "963ff3d7-f6ab-4f66-f814-454602897613"
      },
      "source": [
        "rating(ave)\n",
        "print(simu_data[6])"
      ],
      "execution_count": 70,
      "outputs": [
        {
          "output_type": "stream",
          "text": [
            "BBB\n",
            "BBB\n"
          ],
          "name": "stdout"
        }
      ]
    },
    {
      "cell_type": "code",
      "metadata": {
        "colab": {
          "base_uri": "https://localhost:8080/"
        },
        "id": "Ksj06fkF5jOl",
        "outputId": "98d101c7-fb80-4831-fa3d-63dc7246f44e"
      },
      "source": [
        "rating(ave2)\n",
        "print(simu_data2[6])"
      ],
      "execution_count": 71,
      "outputs": [
        {
          "output_type": "stream",
          "text": [
            "A\n",
            "A\n"
          ],
          "name": "stdout"
        }
      ]
    },
    {
      "cell_type": "markdown",
      "metadata": {
        "id": "0xaA9Jb7kHVk"
      },
      "source": [
        "From the above, we can see that my assumption was verified and we can make a table for the corresponding regions of scales of 10 levels of letter grading. "
      ]
    },
    {
      "cell_type": "code",
      "metadata": {
        "colab": {
          "base_uri": "https://localhost:8080/"
        },
        "id": "rmIMXhgE6anY",
        "outputId": "33bd5fc4-5eca-414a-e78b-21e53eff78dd"
      },
      "source": [
        "from prettytable import PrettyTable\n",
        "x = PrettyTable([\"RepRisk Rating(RRR)\", \"Scale\"])\n",
        "x.add_row([\"AAA\", \"0-10\"])\n",
        "x.add_row([\"AA\", \"11-20\"])\n",
        "x.add_row([\"A\", \"21-30\"])\n",
        "x.add_row([\"BBB\", \"31-40\"])\n",
        "x.add_row([\"BB\", \"41-50\"])\n",
        "x.add_row([\"B\", \"51-60\"])\n",
        "x.add_row([\"CCC\", \"61-70\"])\n",
        "x.add_row([\"CC\", \"71-80\"])\n",
        "x.add_row([\"C\", \"81-90\"])\n",
        "x.add_row([\"D\", \"91-100\"])\n",
        "print(x)"
      ],
      "execution_count": 75,
      "outputs": [
        {
          "output_type": "stream",
          "text": [
            "+---------------------+--------+\n",
            "| RepRisk Rating(RRR) | Scale  |\n",
            "+---------------------+--------+\n",
            "|         AAA         |  0-10  |\n",
            "|          AA         | 11-20  |\n",
            "|          A          | 21-30  |\n",
            "|         BBB         | 31-40  |\n",
            "|          BB         | 41-50  |\n",
            "|          B          | 51-60  |\n",
            "|         CCC         | 61-70  |\n",
            "|          CC         | 71-80  |\n",
            "|          C          | 81-90  |\n",
            "|          D          | 91-100 |\n",
            "+---------------------+--------+\n"
          ],
          "name": "stdout"
        }
      ]
    },
    {
      "cell_type": "markdown",
      "metadata": {
        "id": "-EvUhhFG8d6k"
      },
      "source": [
        ""
      ]
    }
  ]
}